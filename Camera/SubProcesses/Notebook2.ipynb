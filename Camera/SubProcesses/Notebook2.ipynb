{
 "cells": [
  {
   "cell_type": "code",
   "execution_count": 1,
   "id": "d26569d5",
   "metadata": {},
   "outputs": [
    {
     "name": "stdout",
     "output_type": "stream",
     "text": [
      "Env ready\n"
     ]
    }
   ],
   "source": [
    "import os\n",
    "import numpy as np\n",
    "import matplotlib.pyplot as plt\n",
    "import pyrealsense2 as rs\n",
    "from IPython.display import clear_output\n",
    "import sys\n",
    "import cv2\n",
    "import socket\n",
    "\n",
    "print(\"Env ready\")"
   ]
  },
  {
   "cell_type": "code",
   "execution_count": 2,
   "id": "4e280467",
   "metadata": {},
   "outputs": [
    {
     "name": "stdout",
     "output_type": "stream",
     "text": [
      "local libs ready\n"
     ]
    }
   ],
   "source": [
    "# import local libearies\n",
    "import CameraFilter as cf\n",
    "import cameraModule as cm\n",
    "import Compressor as comp\n",
    "import jsonHandler as jH\n",
    "import webinterface as web\n",
    "\n",
    "print(\"local libs ready\")"
   ]
  },
  {
   "cell_type": "markdown",
   "id": "0ee9c3b7",
   "metadata": {},
   "source": []
  },
  {
   "cell_type": "code",
   "execution_count": 3,
   "id": "9066c509",
   "metadata": {},
   "outputs": [
    {
     "name": "stdout",
     "output_type": "stream",
     "text": [
      "Pipeline is created\n",
      "Searching for Realsense Device\n",
      "Device found:  Intel RealSense D405\n",
      "Required sensor for device:  Intel RealSense D405\n",
      " - Depth sensor found\n"
     ]
    },
    {
     "data": {
      "text/plain": [
       "True"
      ]
     },
     "execution_count": 3,
     "metadata": {},
     "output_type": "execute_result"
    }
   ],
   "source": [
    "# initialize camera\n",
    "cm.initCamera()"
   ]
  },
  {
   "cell_type": "code",
   "execution_count": 4,
   "id": "0f31c96d",
   "metadata": {},
   "outputs": [],
   "source": [
    "# kill python kernel\n",
    "# kill -9 $(ps -A | grep python | awk '{print $1}') -> execute in terminal"
   ]
  },
  {
   "cell_type": "code",
   "execution_count": 5,
   "id": "c1d0f234",
   "metadata": {},
   "outputs": [
    {
     "name": "stdout",
     "output_type": "stream",
     "text": [
      " * Serving Flask app \"webapp\" (lazy loading)\n",
      " * Environment: production\n",
      "\u001b[31m   WARNING: This is a development server. Do not use it in a production deployment.\u001b[0m\n",
      "\u001b[2m   Use a production WSGI server instead.\u001b[0m\n",
      " * Debug mode: on\n"
     ]
    },
    {
     "name": "stderr",
     "output_type": "stream",
     "text": [
      " * Running on http://192.168.188.41:5000/ (Press CTRL+C to quit)\n",
      " * Restarting with stat\n",
      "/home/pi/.local/lib/python3.9/site-packages/traitlets/traitlets.py:2412: FutureWarning: Supporting extra quotes around strings is deprecated in traitlets 5.0. You can use 'hmac-sha256' instead of '\"hmac-sha256\"' if you require traitlets >=5.\n",
      "  warn(\n",
      "/home/pi/.local/lib/python3.9/site-packages/traitlets/traitlets.py:2366: FutureWarning: Supporting extra quotes around Bytes is deprecated in traitlets 5.0. Use 'd6820b7e-4e66-4fe6-a677-45e44a5e9ad4' instead of 'b\"d6820b7e-4e66-4fe6-a677-45e44a5e9ad4\"'.\n",
      "  warn(\n",
      "Traceback (most recent call last):\n",
      "  File \"/home/pi/.local/lib/python3.9/site-packages/ipykernel_launcher.py\", line 17, in <module>\n",
      "    app.launch_new_instance()\n",
      "  File \"/home/pi/.local/lib/python3.9/site-packages/traitlets/config/application.py\", line 984, in launch_instance\n",
      "    app.initialize(argv)\n",
      "  File \"/home/pi/.local/lib/python3.9/site-packages/traitlets/config/application.py\", line 113, in inner\n",
      "    return method(app, *args, **kwargs)\n",
      "  File \"/home/pi/.local/lib/python3.9/site-packages/ipykernel/kernelapp.py\", line 666, in initialize\n",
      "    self.init_sockets()\n",
      "  File \"/home/pi/.local/lib/python3.9/site-packages/ipykernel/kernelapp.py\", line 307, in init_sockets\n",
      "    self.shell_port = self._bind_socket(self.shell_socket, self.shell_port)\n",
      "  File \"/home/pi/.local/lib/python3.9/site-packages/ipykernel/kernelapp.py\", line 244, in _bind_socket\n",
      "    return self._try_bind_socket(s, port)\n",
      "  File \"/home/pi/.local/lib/python3.9/site-packages/ipykernel/kernelapp.py\", line 220, in _try_bind_socket\n",
      "    s.bind(\"tcp://%s:%i\" % (self.ip, port))\n",
      "  File \"/home/pi/.local/lib/python3.9/site-packages/zmq/sugar/socket.py\", line 232, in bind\n",
      "    super().bind(addr)\n",
      "  File \"zmq/backend/cython/socket.pyx\", line 568, in zmq.backend.cython.socket.Socket.bind\n",
      "  File \"zmq/backend/cython/checkrc.pxd\", line 28, in zmq.backend.cython.checkrc._check_rc\n",
      "zmq.error.ZMQError: Address already in use\n"
     ]
    },
    {
     "ename": "SystemExit",
     "evalue": "1",
     "output_type": "error",
     "traceback": [
      "An exception has occurred, use %tb to see the full traceback.\n",
      "\u001b[0;31mSystemExit\u001b[0m\u001b[0;31m:\u001b[0m 1\n"
     ]
    },
    {
     "name": "stderr",
     "output_type": "stream",
     "text": [
      "/home/pi/.local/lib/python3.9/site-packages/IPython/core/interactiveshell.py:3441: UserWarning: To exit: use 'exit', 'quit', or Ctrl-D.\n",
      "  warn(\"To exit: use 'exit', 'quit', or Ctrl-D.\", stacklevel=1)\n"
     ]
    },
    {
     "ename": "",
     "evalue": "",
     "output_type": "error",
     "traceback": [
      "\u001b[1;31mThe Kernel crashed while executing code in the the current cell or a previous cell. Please review the code in the cell(s) to identify a possible cause of the failure. Click <a href='https://aka.ms/vscodeJupyterKernelCrash'>here</a> for more info. View Jupyter <a href='command:jupyter.viewOutput'>log</a> for further details."
     ]
    }
   ],
   "source": [
    "# start webinterface\n",
    "web.start_webinterface()\n",
    ";"
   ]
  },
  {
   "cell_type": "code",
   "execution_count": null,
   "id": "a1ccba76",
   "metadata": {},
   "outputs": [
    {
     "ename": "AttributeError",
     "evalue": "module 'cameraModule' has no attribute 'capture'",
     "output_type": "error",
     "traceback": [
      "\u001b[0;31m---------------------------------------------------------------------------\u001b[0m",
      "\u001b[0;31mAttributeError\u001b[0m                            Traceback (most recent call last)",
      "Cell \u001b[0;32mIn[5], line 2\u001b[0m\n\u001b[1;32m      1\u001b[0m \u001b[38;5;66;03m# capture\u001b[39;00m\n\u001b[0;32m----> 2\u001b[0m depth, rgb, captureDuration \u001b[38;5;241m=\u001b[39m \u001b[43mcm\u001b[49m\u001b[38;5;241;43m.\u001b[39;49m\u001b[43mcapture\u001b[49m()\n\u001b[1;32m      3\u001b[0m \u001b[38;5;28mprint\u001b[39m(\u001b[38;5;28mtype\u001b[39m(depth))\n\u001b[1;32m      4\u001b[0m \u001b[38;5;28mprint\u001b[39m(\u001b[38;5;28mtype\u001b[39m(rgb))\n",
      "\u001b[0;31mAttributeError\u001b[0m: module 'cameraModule' has no attribute 'capture'"
     ]
    }
   ],
   "source": [
    "# capture\n",
    "depth, rgb, captureDuration = cm.capture()\n",
    "print(type(depth))\n",
    "print(type(rgb))\n",
    "print(depth.shape)\n",
    "print(rgb.shape)\n"
   ]
  },
  {
   "cell_type": "code",
   "execution_count": null,
   "id": "4df4f388",
   "metadata": {},
   "outputs": [],
   "source": [
    "# visualise capture\n",
    "plt.suptitle(\"Capture -> Capture duration: \" + str(captureDuration))\n",
    "plt.subplot(1,2,1)\n",
    "plt.title(\"Depth\")\n",
    "plt.imshow(depth)\n",
    "plt.subplot(1,2,2)\n",
    "plt.title(\"RGB\")\n",
    "plt.imshow(rgb)\n",
    "plt.show()\n"
   ]
  },
  {
   "cell_type": "code",
   "execution_count": null,
   "id": "1ffce184",
   "metadata": {},
   "outputs": [],
   "source": [
    "# Capture multiple images\n",
    "depth1, rgb1, captureDuration1 = cm.captureBurst(numRGB=3, numDepth=5, mode=\"mean\")\n",
    "\n",
    "# visualise capture\n",
    "plt.suptitle(\"Capture -> Capture duration: \" + str(captureDuration))\n",
    "plt.subplot(1,2,1)\n",
    "plt.title(\"Depth\")\n",
    "plt.imshow(depth1)\n",
    "plt.subplot(1,2,2)\n",
    "plt.title(\"RGB\")\n",
    "plt.imshow(rgb1)\n",
    "plt.show()"
   ]
  },
  {
   "cell_type": "code",
   "execution_count": null,
   "id": "b73612b0",
   "metadata": {},
   "outputs": [],
   "source": [
    "\"\"\"# split RGB into channels\n",
    "rChannel = rgb[:,:,0]\n",
    "gChannel = rgb[:,:,1]\n",
    "bChannel = rgb[:,:,2]\n",
    "\n",
    "# flatten channels\n",
    "rChannel = rChannel.flatten()\n",
    "gChannel = gChannel.flatten()\n",
    "bChannel = bChannel.flatten()\n",
    "\n",
    "\"\"\""
   ]
  },
  {
   "cell_type": "code",
   "execution_count": null,
   "id": "2fe84345",
   "metadata": {},
   "outputs": [],
   "source": [
    "# Surf plot of the depth map\n",
    "X = np.arange(0, depth.shape[1], 1)\n",
    "Y = np.arange(0, depth.shape[0], 1)\n",
    "X, Y = np.meshgrid(X, Y)\n",
    "Z = depth\n",
    "\n",
    "fig, ax = plt.subplots(subplot_kw={\"projection\": \"3d\"})\n",
    "surf = ax.plot_surface(X, Y, Z,\n",
    "                       linewidth=0, antialiased=False)\n",
    "ax.set_zlim(0,np.max(Z))"
   ]
  },
  {
   "cell_type": "code",
   "execution_count": null,
   "id": "c36918e9",
   "metadata": {},
   "outputs": [],
   "source": [
    "cm.stopCamera()"
   ]
  }
 ],
 "metadata": {
  "kernelspec": {
   "display_name": "Python 3 (ipykernel)",
   "language": "python",
   "name": "python3"
  },
  "language_info": {
   "codemirror_mode": {
    "name": "ipython",
    "version": 3
   },
   "file_extension": ".py",
   "mimetype": "text/x-python",
   "name": "python",
   "nbconvert_exporter": "python",
   "pygments_lexer": "ipython3",
   "version": "3.9.2"
  },
  "vscode": {
   "interpreter": {
    "hash": "baffc68c9692be51e3e94537c383c2de37b48905c01989d8d93d2d345a5dcd56"
   }
  }
 },
 "nbformat": 4,
 "nbformat_minor": 5
}
