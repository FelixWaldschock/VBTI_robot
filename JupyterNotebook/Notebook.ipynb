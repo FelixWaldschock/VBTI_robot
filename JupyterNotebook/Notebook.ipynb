{
 "cells": [
  {
   "cell_type": "code",
   "execution_count": null,
   "id": "d26569d5",
   "metadata": {},
   "outputs": [],
   "source": [
    "import os\n",
    "import numpy as np\n",
    "import matplotlib.pyplot as plt\n",
    "import pyrealsense2 as rs\n",
    "from IPython.display import clear_output\n",
    "\n",
    "print(\"Env ready\")"
   ]
  },
  {
   "cell_type": "code",
   "execution_count": null,
   "id": "944a2135",
   "metadata": {},
   "outputs": [],
   "source": [
    "# Create Pipeline\n",
    "pipe = rs.pipeline()\n",
    "cfg = rs.config()\n",
    "print(\"Pipeline is created\")"
   ]
  },
  {
   "cell_type": "code",
   "execution_count": null,
   "id": "fd02248c",
   "metadata": {},
   "outputs": [],
   "source": [
    "# Find Realsense Device\n",
    "print(\"Searching for Realsense Device\")\n",
    "selected_device = []\n",
    "\n",
    "for d in rs.context().devices:\n",
    "    selected_device.append(d)\n",
    "    print(\"Device found: \", d.get_info(rs.camera_info.name))\n",
    "if not selected_device:\n",
    "    print(\"No Realsense Device found\")\n",
    "    exit(0)\n"
   ]
  },
  {
   "cell_type": "code",
   "execution_count": null,
   "id": "22c0d3bf",
   "metadata": {},
   "outputs": [],
   "source": [
    "# Find RGB and Depth Sensor\n",
    "rgb_sensor = depth_sensor = None\n",
    "\n",
    "for device in selected_device:\n",
    "    print(\"Required sensor for device: \", device.get_info(rs.camera_info.name))\n",
    "    for s in device.sensors:\n",
    "        if s.get_info(rs.camera_info.name) == 'RGB Camera':\n",
    "            print(\" - RGB sensor found\")\n",
    "            rgb_sensor = s\n",
    "        if s.get_info(rs.camera_info.name) == 'Stereo Module':\n",
    "            print(\" - Depth sensor found\")\n",
    "            depth_sensor = s"
   ]
  },
  {
   "cell_type": "code",
   "execution_count": null,
   "id": "2e387573",
   "metadata": {},
   "outputs": [],
   "source": [
    "# Displaying Depth and Color Frames\n",
    "colorizer = rs.colorizer()\n",
    "profile = pipe.start(cfg)\n",
    "\n",
    "fig, axs = plt.subplots(nrows=1, ncols=2, figsize=(12,4))\n",
    "title = [\"Depth Image\", \"RGB Image\"]\n",
    "\n",
    "for _ in range(10):\n",
    "    frameset = pipe.wait_for_frames()\n",
    "\n",
    "for _ in range(5):\n",
    "    frameset = pipe.wait_for_frames()\n",
    "    depth_frame = frameset.get_depth_frame()\n",
    "    color_frame = frameset.get_color_frame()\n",
    "\n",
    "    colorized_stream = []\n",
    "\n",
    "    if depth_frame:\n",
    "        colorized_stream.append(np.asanyarray(colorizer.colorize(depth_frame).get_data()))\n",
    "    if color_frame:\n",
    "        colorized_stream.append(np.asanyarray(color_frame.get_data()))\n",
    "    \n",
    "    for i, ax in enumerate(axs.flatten()):\n",
    "        if i >= len(colorized_stream): continue\n",
    "        plt.sca(ax)\n",
    "        plt.imshow(colorized_stream[i])\n",
    "        plt.title(title[i])\n",
    "\n",
    "    clear_output(wait=True)\n",
    "    plt.tight_layout()\n",
    "    plt.pause(1)\n",
    "pipe.stop()\n",
    "print(\"Done!\")"
   ]
  }
 ],
 "metadata": {
  "kernelspec": {
   "display_name": "Python 3.9.13 64-bit",
   "language": "python",
   "name": "python3"
  },
  "language_info": {
   "codemirror_mode": {
    "name": "ipython",
    "version": 3
   },
   "file_extension": ".py",
   "mimetype": "text/x-python",
   "name": "python",
   "nbconvert_exporter": "python",
   "pygments_lexer": "ipython3",
   "version": "3.9.13"
  },
  "vscode": {
   "interpreter": {
    "hash": "aee8b7b246df8f9039afb4144a1f6fd8d2ca17a180786b69acc140d282b71a49"
   }
  }
 },
 "nbformat": 4,
 "nbformat_minor": 5
}
